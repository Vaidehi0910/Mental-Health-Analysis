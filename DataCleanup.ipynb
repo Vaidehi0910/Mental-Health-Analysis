{
  "cells": [
    {
      "cell_type": "markdown",
      "metadata": {
        "id": "view-in-github",
        "colab_type": "text"
      },
      "source": [
        "<a href=\"https://colab.research.google.com/github/Vaidehi0910/Mental-Health-Analysis/blob/main/DataCleanup.ipynb\" target=\"_parent\"><img src=\"https://colab.research.google.com/assets/colab-badge.svg\" alt=\"Open In Colab\"/></a>"
      ]
    },
    {
      "cell_type": "markdown",
      "metadata": {
        "id": "11ck21LhFAYD"
      },
      "source": [
        "# The Open Sourcing Mental Health or OSMI Mental Health survey"
      ]
    },
    {
      "cell_type": "markdown",
      "metadata": {
        "id": "QAgch5K5FAYJ"
      },
      "source": [
        "## This Jupyter Notebook deals with cleaning the datasets and preparing the datasets for exploratory data analysis. It is often said that well-defined data beats fancy and complex algorithms."
      ]
    },
    {
      "cell_type": "markdown",
      "metadata": {
        "id": "gSsVm3yIFAYK"
      },
      "source": [
        "### All warnings are supressed to produce more concise output."
      ]
    },
    {
      "cell_type": "code",
      "execution_count": null,
      "metadata": {
        "id": "LYsBpkHTFAYL"
      },
      "outputs": [],
      "source": [
        "import sys\n",
        "import warnings\n",
        "\n",
        "if not sys.warnoptions:\n",
        "    warnings.simplefilter(\"ignore\")"
      ]
    },
    {
      "cell_type": "markdown",
      "metadata": {
        "id": "_1ISqljJFAYM"
      },
      "source": [
        "### Importing the datasets. The datasets are from years 2014, 2016, 2017 and 2018."
      ]
    },
    {
      "cell_type": "code",
      "execution_count": null,
      "metadata": {
        "id": "5khdNu74FAYN",
        "outputId": "47aa0e90-0cc9-4539-be64-335d6c187e2c"
      },
      "outputs": [
        {
          "name": "stdout",
          "output_type": "stream",
          "text": [
            "(4218, 211)\n"
          ]
        }
      ],
      "source": [
        "import pandas as pd  # data processing, CSV file I/O\n",
        "\n",
        "survey2014 = pd.read_csv('datasets/OSMIsurvey2014.csv').assign(Year=2014)\n",
        "survey2016 = pd.read_csv('datasets/OSMIsurvey2016.csv').assign(Year=2016)\n",
        "survey2017 = pd.read_csv('datasets/OSMIsurvey2017.csv').assign(Year=2017)\n",
        "survey2018 = pd.read_csv('datasets/OSMIsurvey2018.csv').assign(Year=2018)\n",
        "survey2019 = pd.read_csv('datasets/OSMIsurvey2019.csv').assign(Year=2019)\n",
        "\n",
        "survey141619 =  pd.concat([survey2014, survey2016, survey2019], ignore_index=True, sort=True)\n",
        "survey1718 = pd.concat([survey2017, survey2018], ignore_index=True, sort=True)\n",
        "\n",
        "survey = pd.concat([survey141619, survey1718], ignore_index=True, sort=True)\n",
        "print(survey.shape)"
      ]
    },
    {
      "cell_type": "markdown",
      "metadata": {
        "id": "LJHQuN1EFAYO"
      },
      "source": [
        "### All the surveys have been collected and placed in a list of datasets. Now, to clean the dataset, a function is defined which takes the dataset and removes some common impurities.\n",
        "#### 1. HTML elements\n",
        "#### 2. Un-needed columns\n",
        "#### 3. Reset index"
      ]
    },
    {
      "cell_type": "code",
      "execution_count": null,
      "metadata": {
        "id": "GeROnEGBFAYP",
        "outputId": "54487e77-2adf-4153-b2f4-57dbac5f4a00"
      },
      "outputs": [
        {
          "name": "stdout",
          "output_type": "stream",
          "text": [
            "(4218, 206)\n"
          ]
        }
      ],
      "source": [
        "import re\n",
        "\n",
        "def cleanColumns(dataframe):\n",
        "    dataframe.columns = map(str.lower, dataframe.columns)\n",
        "\n",
        "    # Remove HTML artifacts\n",
        "    dataframe.rename(columns=lambda colname: re.sub('</\\w+>', '', colname), inplace=True)\n",
        "    dataframe.rename(columns=lambda colname: re.sub('<\\w+>', '', colname), inplace=True)\n",
        "    dataframe.rename(columns = {'how many employees does your company or organization have?':'Company Size',\n",
        "                                'do you have a family history of mental illness?' : 'Family History of Mental Illness'}, inplace = True)\n",
        "\n",
        "    dataframe.drop(columns=['#', 'start date (utc)', 'submit date (utc)', 'network id', 'timestamp'], inplace=True)\n",
        "    dataframe.reset_index(drop=True)\n",
        "\n",
        "    return dataframe\n",
        "\n",
        "survey = cleanColumns(survey)\n",
        "print(survey.shape)"
      ]
    },
    {
      "cell_type": "markdown",
      "metadata": {
        "id": "9vi0WFXeFAYW"
      },
      "source": [
        "### It is important to know the make up of the data and the number of null values / dirty values or noise present in it. To help with this a funtion is defined which takes the data and plots the number of null or impure values. The blue bars show missing data. Presence of large number of blue bars means the dataset is full of empty or impure values."
      ]
    },
    {
      "cell_type": "code",
      "execution_count": null,
      "metadata": {
        "id": "jBI9q-lzFAYX",
        "outputId": "c3d300bc-1691-4e78-b9f7-586655d06348"
      },
      "outputs": [
        {
          "name": "stdout",
          "output_type": "stream",
          "text": [
            "                                                    Total missing     Percent\n",
            "addictive disorder                                           4218  100.000000\n",
            "psychotic disorder (schizophrenia, schizoaffect...           4218  100.000000\n",
            "attention deficit hyperactivity disorder                     4218  100.000000\n",
            "other                                                        4218  100.000000\n",
            "describe the circumstances of the supportive or...           4218  100.000000\n",
            "anxiety disorder (generalized, social, phobia, ...           4218  100.000000\n",
            "psychotic disorder (schizophrenia, schizoaffect...           4218  100.000000\n",
            "personality disorder (borderline, antisocial, p...           4218  100.000000\n",
            "eating disorder (anorexia, bulimia, etc)                     4218  100.000000\n",
            "post-traumatic stress disorder                               4218  100.000000\n",
            "obsessive-compulsive disorder                                4218  100.000000\n",
            "*what disorder(s) have you been diagnosed with?*             4218  100.000000\n",
            "stress response syndromes                                    4218  100.000000\n",
            "dissociative disorder                                        4218  100.000000\n",
            "mood disorder (depression, bipolar disorder, etc)            4218  100.000000\n",
            "substance use disorder                                       4218  100.000000\n",
            "other.1                                                      4213   99.881460\n",
            "eating disorder (anorexia, bulimia, etc).1                   4213   99.881460\n",
            "dissociative disorder.1                                      4212   99.857752\n",
            "dissociative disorder.2                                      4210   99.810337\n"
          ]
        },
        {
          "data": {
            "image/png": "[encoded data removed]",
            "text/plain": [
              "<Figure size 1800x360 with 1 Axes>"
            ]
          },
          "metadata": {
            "needs_background": "light"
          },
          "output_type": "display_data"
        }
      ],
      "source": [
        "import numpy as np;\n",
        "import matplotlib.pyplot as plt\n",
        "%matplotlib inline\n",
        "\n",
        "def ShowNullValues(dataframe):\n",
        "    total = dataframe.isnull().sum().sort_values(ascending=False)\n",
        "    nullValues = dataframe.isnull().sum()\n",
        "    totalValues = dataframe.isnull().count()\n",
        "    percent = (nullValues/totalValues).sort_values(ascending=False)\n",
        "    missingData = pd.concat([total, percent*100], axis=1, keys=['Total missing', 'Percent'])\n",
        "    print(missingData.head(20))\n",
        "    plt.figure(figsize=(25,5))\n",
        "    total.plot.bar()\n",
        "    y = ((lambda x: str(x)) (x) for x in range(len(dataframe.columns)))\n",
        "    plt.xticks(np.arange(len(dataframe.columns)), (y))\n",
        "    plt.ylabel(\"No. of missing or empty values\")\n",
        "    plt.xlabel(\"Dataset features\")\n",
        "    plt.show()\n",
        "    return missingData\n",
        "\n",
        "noisyData = ShowNullValues(survey)"
      ]
    },
    {
      "cell_type": "markdown",
      "metadata": {
        "id": "_RGpbempFAYY"
      },
      "source": [
        "### Ouch! The dataset is full of missing or impure values which need to be cleaned before any further analysis can be carried out."
      ]
    },
    {
      "cell_type": "markdown",
      "metadata": {
        "id": "o9_wh0HQFAYY"
      },
      "source": [
        "### To start with, the age and gender data is cleaned."
      ]
    },
    {
      "cell_type": "code",
      "execution_count": null,
      "metadata": {
        "id": "OMeFZdLZFAYZ",
        "outputId": "03a4844a-3930-4937-9db1-95eac4709a89"
      },
      "outputs": [
        {
          "name": "stdout",
          "output_type": "stream",
          "text": [
            "[37. 44. 32. 31. 33. 35. 39. 42. 23. 29. 36. 27. 46. 41. 34. 30. 40. 38.\n",
            " 50. 24. 18. 28. 26. 22. 19. 25. 45. 21.  0. 43. 56. 60. 54. 55. 48. 20.\n",
            " 57. 58. 47. 62. 51. 65. 49. 53. 61. 11. 72. 52. 17. 63. 99. 66. 59. 15.\n",
            " 74. 70. 64. 67.]\n"
          ]
        }
      ],
      "source": [
        "# ageDistribution = survey.loc[:, survey.columns.str.contains('age', regex=True)]\n",
        "ageDistribution = survey.loc[:, ['age', 'what is your age?']]\n",
        "ageDistribution.fillna(0, inplace=True)\n",
        "survey.loc[:,'Age'] = ageDistribution.sum(axis=1)\n",
        "survey.loc[survey['Age']>100, 'Age'] = 0\n",
        "survey.loc[survey['Age']<10, 'Age'] = 0\n",
        "survey['Age-Group'] = pd.cut(survey['Age'], [0, 20, 30, 40, 65, 100], labels=[\"0-20\", \"21-30\", \"31-40\", \"41-65\", \"66-100\"], include_lowest=True)\n",
        "survey.drop(ageDistribution, axis=1, inplace=True)\n",
        "showAge = survey['Age']\n",
        "print(showAge.unique())"
      ]
    },
    {
      "cell_type": "code",
      "execution_count": null,
      "metadata": {
        "id": "CWZ-Cz-bFAYZ",
        "outputId": "bcb9d96a-d027-4a0d-a2b7-8dc2ced5c776"
      },
      "outputs": [
        {
          "name": "stdout",
          "output_type": "stream",
          "text": [
            "['Female' 'Male' 'Undecided']\n"
          ]
        }
      ],
      "source": [
        "genderDistribution = survey.loc[:, survey.columns.str.contains('gender|Gender', regex=True)]\n",
        "survey['Gender'] = genderDistribution.apply(lambda row: ' '.join(row.values.astype(str)), axis=1)\n",
        "survey.loc[survey['Gender'].str.contains('Trans|them|trans|Undecided|Contextual|transgender|nb|unicorn|Unicorn|queer|NB|binary|Enby|Human|little|androgynous|Androgyne|Neutral|Agender|Androgynous|Androgynous|Fluid|GenderFluid|Genderflux|genderqueer|Genderqueer' , regex=True), 'Gender'] = 'Undecided'\n",
        "survey.loc[survey['Gender'].str.contains('Female|female|FEMALE|Woman|woman|w|womail|W|Cis female| Female (cis)|Cis Female|cis female|cis woman|F|f' , regex=True), 'Gender'] = 'Female'\n",
        "cond1 = survey['Gender']!='Female'\n",
        "cond2 = survey['Gender']!='Undecided'\n",
        "survey.loc[cond1 & cond2, 'Gender'] = 'Male'\n",
        "survey.drop(genderDistribution, axis=1, inplace=True)\n",
        "showGender = survey['Gender']\n",
        "print(showGender.unique())"
      ]
    },
    {
      "cell_type": "markdown",
      "metadata": {
        "id": "TbNfriKBFAYa"
      },
      "source": [
        "### Number of respondents who have sought treatment for mental health conditions."
      ]
    },
    {
      "cell_type": "code",
      "execution_count": null,
      "metadata": {
        "id": "V4sLMHjjFAYa",
        "outputId": "bdc30a14-6a2f-42a7-e2a3-4e2bd2b9abe1"
      },
      "outputs": [
        {
          "name": "stdout",
          "output_type": "stream",
          "text": [
            "[1 0]\n"
          ]
        }
      ],
      "source": [
        "soughtTreatment = survey.loc[:, survey.columns.str.contains('sought treatment')]\n",
        "soughtTreatment.fillna('', inplace=True)\n",
        "survey['Sought Treatment'] = soughtTreatment.apply(lambda row: ' '.join(row.values.astype(str)), axis=1)\n",
        "survey.loc[survey['Sought Treatment'].str.contains('yes|1.0|1|Yes|True|true' , regex=True, na=False), 'Sought Treatment'] = 1\n",
        "survey.loc[survey['Sought Treatment'].str.contains('no|0.0|0|No|False|false' , regex=True, na=False), 'Sought Treatment'] = 0\n",
        "survey.drop(soughtTreatment, axis=1, inplace=True)\n",
        "showSoughtTreatment = survey['Sought Treatment']\n",
        "print(showSoughtTreatment.unique())"
      ]
    },
    {
      "cell_type": "code",
      "execution_count": null,
      "metadata": {
        "id": "Yfs91BiDFAYa",
        "outputId": "04bfbbfe-f2c0-49e6-8fbb-b30dfab03dba"
      },
      "outputs": [
        {
          "name": "stdout",
          "output_type": "stream",
          "text": [
            "                                                    Total missing     Percent\n",
            "mood disorder (depression, bipolar disorder, etc)            4218  100.000000\n",
            "dissociative disorder                                        4218  100.000000\n",
            "post-traumatic stress disorder                               4218  100.000000\n",
            "psychotic disorder (schizophrenia, schizoaffect...           4218  100.000000\n",
            "psychotic disorder (schizophrenia, schizoaffect...           4218  100.000000\n",
            "stress response syndromes                                    4218  100.000000\n",
            "substance use disorder                                       4218  100.000000\n",
            "anxiety disorder (generalized, social, phobia, ...           4218  100.000000\n",
            "attention deficit hyperactivity disorder                     4218  100.000000\n",
            "other                                                        4218  100.000000\n",
            "obsessive-compulsive disorder                                4218  100.000000\n",
            "describe the circumstances of the supportive or...           4218  100.000000\n",
            "addictive disorder                                           4218  100.000000\n",
            "personality disorder (borderline, antisocial, p...           4218  100.000000\n",
            "*what disorder(s) have you been diagnosed with?*             4218  100.000000\n",
            "eating disorder (anorexia, bulimia, etc)                     4218  100.000000\n",
            "other.1                                                      4213   99.881460\n",
            "eating disorder (anorexia, bulimia, etc).1                   4213   99.881460\n",
            "dissociative disorder.1                                      4212   99.857752\n",
            "dissociative disorder.2                                      4210   99.810337\n"
          ]
        },
        {
          "data": {
            "image/png": "[encoded data removed]",
            "text/plain": [
              "<Figure size 1800x360 with 1 Axes>"
            ]
          },
          "metadata": {
            "needs_background": "light"
          },
          "output_type": "display_data"
        }
      ],
      "source": [
        "noisyData = ShowNullValues(survey)"
      ]
    },
    {
      "cell_type": "markdown",
      "metadata": {
        "id": "t-j4EZNgFAYa"
      },
      "source": [
        "### Description of prior experience with discussing about mental health."
      ]
    },
    {
      "cell_type": "code",
      "execution_count": null,
      "metadata": {
        "id": "ip285S7mFAYb",
        "outputId": "6f6baeba-a57b-451a-962a-2e8907e582d4"
      },
      "outputs": [
        {
          "name": "stdout",
          "output_type": "stream",
          "text": [
            "0                                                        \n",
            "1                                                        \n",
            "2                                                        \n",
            "3                                                        \n",
            "4                                                        \n",
            "                              ...                        \n",
            "4213                                                     \n",
            "4214        Told about My depression got supportive re...\n",
            "4215        I've brought up my depression with previou...\n",
            "4216      Multiple conversations Supportive. They unde...\n",
            "4217    Coworker transitioned mtf and was treated poor...\n",
            "Name: Describe Past Experience, Length: 4218, dtype: object\n"
          ]
        }
      ],
      "source": [
        "describethe = survey.loc[:, survey.columns.str.contains('describe the')]\n",
        "describethe.fillna('', inplace=True)\n",
        "survey['Describe Past Experience'] = describethe.apply(lambda row: ' '.join(row.values.astype(str)), axis=1)\n",
        "survey.drop(describethe, axis=1, inplace=True)\n",
        "showPastExperience = survey['Describe Past Experience']\n",
        "print(showPastExperience)"
      ]
    },
    {
      "cell_type": "code",
      "execution_count": null,
      "metadata": {
        "id": "QAppNFmQFAYb",
        "outputId": "8e86c7dc-19e0-4ccf-bd6c-9edd2d272e0e"
      },
      "outputs": [
        {
          "name": "stdout",
          "output_type": "stream",
          "text": [
            "['  ' 0 1]\n"
          ]
        }
      ],
      "source": [
        "anon = survey.loc[:, survey.columns.str.contains('anonymous')]\n",
        "anon.fillna('', inplace=True)\n",
        "survey['Prefer Anonymity'] = anon.apply(lambda row: ' '.join(row.values.astype(str)), axis=1)\n",
        "survey.loc[survey['Prefer Anonymity'].str.contains('yes|1.0|1|Yes|True|true', regex=True, na=False), 'Prefer Anonymity'] = 1\n",
        "survey.loc[survey['Prefer Anonymity'].str.contains('no|0.0|0|No|False|false' , regex=True, na=False), 'Prefer Anonymity'] = 0\n",
        "survey.drop(anon, axis=1, inplace=True)\n",
        "showPreferAnonymity = survey['Prefer Anonymity']\n",
        "print(showPreferAnonymity.unique())"
      ]
    },
    {
      "cell_type": "code",
      "execution_count": null,
      "metadata": {
        "id": "6OZPoQJlFAYc",
        "outputId": "d28c6392-a1df-47e3-e062-5baba22f2d80"
      },
      "outputs": [
        {
          "name": "stdout",
          "output_type": "stream",
          "text": [
            "['  ' 'Above Average' 'Below Average']\n"
          ]
        }
      ],
      "source": [
        "react = survey.loc[:, survey.columns.str.contains('react')]\n",
        "react.fillna('', inplace=True)\n",
        "survey['Rate Reaction to Problems'] = react.apply(lambda row: ' '.join(row.values.astype(str)), axis=1)\n",
        "survey.loc[survey['Rate Reaction to Problems'].str.contains('0.0|1.0|2.0|3.0|4.0|5.0', regex=True), 'Rate Reaction to Problems'] = 'Below Average'\n",
        "survey.loc[survey['Rate Reaction to Problems'].str.contains('6.0|7.0|8.0|9.0|10.0', regex=True), 'Rate Reaction to Problems'] = 'Above Average'\n",
        "survey.drop(react, axis=1, inplace=True)\n",
        "showReaction = survey['Rate Reaction to Problems']\n",
        "print(showReaction.unique())"
      ]
    },
    {
      "cell_type": "code",
      "execution_count": null,
      "metadata": {
        "id": "v3X8Go2YFAYc",
        "outputId": "9a48780f-50e3-45a2-e5ff-ebec165daf5e"
      },
      "outputs": [
        {
          "name": "stdout",
          "output_type": "stream",
          "text": [
            "['No' 'Maybe' 'Yes' 'Self-Employed' '              ']\n"
          ]
        }
      ],
      "source": [
        "neg = survey.loc[:, survey.columns.str.contains('negative|badly', regex=True)]\n",
        "neg.fillna(' ', inplace=True)\n",
        "survey['Negative Consequences'] = neg.apply(lambda row: ''.join(row.values.astype(str)), axis=1)\n",
        "survey.loc[survey['Negative Consequences'].str.contains('yes|1.0|1|Yes' , regex=True), 'Negative Consequences'] = 'Yes'\n",
        "survey.loc[survey['Negative Consequences'].str.contains('maybe|Maybe|1' , regex=True), 'Negative Consequences'] = 'Maybe'\n",
        "survey.loc[survey['Negative Consequences'].str.contains('no|No|0' , regex=True), 'Negative Consequences'] = 'No'\n",
        "survey.loc[survey['Negative Consequences'].str.contains('self-employed' , regex=True), 'Negative Consequences'] = 'Self-Employed'\n",
        "survey.drop(neg, axis=1, inplace=True)\n",
        "showNegativeConsequnces = survey['Negative Consequences']\n",
        "print(showNegativeConsequnces.unique())"
      ]
    },
    {
      "cell_type": "markdown",
      "metadata": {
        "id": "7Uyv0GGNFAYc"
      },
      "source": [
        "### The location of respondents taking the OSMI Mental Health survey."
      ]
    },
    {
      "cell_type": "code",
      "execution_count": null,
      "metadata": {
        "id": "1kn2g6lyFAYc",
        "outputId": "0d12a182-65f8-4776-814b-00fac320f665"
      },
      "outputs": [
        {
          "name": "stdout",
          "output_type": "stream",
          "text": [
            "['USA' 'Canada' 'United Kingdom' 'Bulgaria' 'France' 'Portugal'\n",
            " 'Netherlands' 'Switzerland' 'Poland' 'Australia' 'Germany' 'Russia'\n",
            " 'Mexico' 'Brazil' 'Slovenia' 'Costa Rica' 'Austria' 'Ireland' 'India'\n",
            " 'South Africa' 'Italy' 'Sweden' 'Colombia' 'Latvia' 'Romania' 'Belgium'\n",
            " 'New Zealand' 'Zimbabwe' 'Spain' 'Finland' 'Uruguay' 'Israel'\n",
            " 'Bosnia and Herzegovina' 'Hungary' 'Singapore' 'Japan' 'Nigeria'\n",
            " 'Croatia' 'Norway' 'Thailand' 'Denmark' 'Bahamas, The' 'Greece' 'Moldova'\n",
            " 'Georgia' 'China' 'Czech Republic' 'Philippines' 'Lithuania' 'Venezuela'\n",
            " 'Argentina' 'Vietnam' 'Slovakia' 'Bangladesh' 'Algeria' 'Pakistan'\n",
            " 'Afghanistan' 'Other' 'Brunei' 'Iran' 'Ecuador' 'Chile' 'Guatemala'\n",
            " 'Taiwan' 'Serbia' 'Estonia' 'United KingdomUnited Kingdom'\n",
            " 'NetherlandsNetherlands' 'CanadaCanada' 'TurkeyTurkey' 'BelgiumBelgium'\n",
            " 'CroatiaCroatia' 'United KingdomOther' 'GhanaGhana' 'NorwayNorway'\n",
            " 'PortugalPortugal' 'SwitzerlandSwitzerland' 'PakistanPakistan'\n",
            " 'PolandPoland' 'SpainSpain' 'IndiaIndia' 'BrazilBrazil' 'AustriaAustria'\n",
            " 'GermanyGermany' 'IsraelIsrael' 'MexicoMexico' 'ItalyItaly'\n",
            " 'New ZealandNew Zealand' 'IrelandIreland' 'FranceFrance' 'AlgeriaAlgeria'\n",
            " 'Hong KongHong Kong' 'IndonesiaIndonesia' 'South AfricaSouth Africa'\n",
            " 'AfghanistanAfghanistan' 'EstoniaEstonia' 'GreeceGreece' 'JapanJapan'\n",
            " 'Iceland' 'Indonesia' 'Jordan' 'Ukraine' 'Belarus' 'Turkey' ''\n",
            " 'Mauritius' 'Saudi Arabia' 'Kenya' 'Ethiopia' 'Macedonia' 'Hong Kong']\n"
          ]
        }
      ],
      "source": [
        "work = survey.loc[:, survey.columns.str.contains('work in', regex=True)]\n",
        "survey.drop(work, axis=1, inplace=True)\n",
        "state = survey.loc[:, survey.columns.str.contains('country', regex=True)]\n",
        "state.fillna('', inplace=True)\n",
        "survey['Location'] = state.apply(lambda row: ''.join(row.values.astype(str)), axis=1)\n",
        "survey.loc[survey['Location'].str.contains('[A-Z][A-Z]|United States' , regex=True), 'Location'] = 'USA'\n",
        "showLocation = survey['Location']\n",
        "survey.drop(state, axis=1, inplace=True)\n",
        "print(showLocation.unique())"
      ]
    },
    {
      "cell_type": "markdown",
      "metadata": {
        "id": "XcpG4sotFAYd"
      },
      "source": [
        "### It's important to know if the respondents have access to any resources regarding mental health issues or remedies."
      ]
    },
    {
      "cell_type": "code",
      "execution_count": null,
      "metadata": {
        "id": "ZurIn4XdFAYd",
        "outputId": "04356f89-738c-444a-c010-b3a502691eba"
      },
      "outputs": [
        {
          "name": "stdout",
          "output_type": "stream",
          "text": [
            "[1 0]\n"
          ]
        }
      ],
      "source": [
        "resources = survey.loc[:, survey.columns.str.contains('resources', regex=True)]\n",
        "resources.fillna('', inplace=True)\n",
        "survey['Access to information'] = resources.apply(lambda row: ''.join(row.values.astype(str)), axis=1)\n",
        "survey.loc[survey['Access to information'].str.contains('yes|Yes' , regex=True, na=False), 'Access to information'] = 1\n",
        "survey.loc[survey['Access to information'].str.contains('no|No' , regex=True, na=False), 'Access to information'] = 0\n",
        "survey.drop(resources, axis=1, inplace=True)\n",
        "showAccessToInformation = survey['Access to information']\n",
        "print(showAccessToInformation.unique())"
      ]
    },
    {
      "cell_type": "code",
      "execution_count": null,
      "metadata": {
        "id": "QBOasWEoFAYd",
        "outputId": "224d23df-7bdb-4712-ab73-3662ed4ce1c3"
      },
      "outputs": [
        {
          "name": "stdout",
          "output_type": "stream",
          "text": [
            "                                                    Total missing     Percent\n",
            "attention deficit hyperactivity disorder                     4218  100.000000\n",
            "dissociative disorder                                        4218  100.000000\n",
            "substance use disorder                                       4218  100.000000\n",
            "psychotic disorder (schizophrenia, schizoaffect...           4218  100.000000\n",
            "personality disorder (borderline, antisocial, p...           4218  100.000000\n",
            "mood disorder (depression, bipolar disorder, etc)            4218  100.000000\n",
            "anxiety disorder (generalized, social, phobia, ...           4218  100.000000\n",
            "psychotic disorder (schizophrenia, schizoaffect...           4218  100.000000\n",
            "eating disorder (anorexia, bulimia, etc)                     4218  100.000000\n",
            "addictive disorder                                           4218  100.000000\n",
            "obsessive-compulsive disorder                                4218  100.000000\n",
            "*what disorder(s) have you been diagnosed with?*             4218  100.000000\n",
            "stress response syndromes                                    4218  100.000000\n",
            "other                                                        4218  100.000000\n",
            "post-traumatic stress disorder                               4218  100.000000\n",
            "eating disorder (anorexia, bulimia, etc).1                   4213   99.881460\n",
            "other.1                                                      4213   99.881460\n",
            "dissociative disorder.1                                      4212   99.857752\n",
            "dissociative disorder.2                                      4210   99.810337\n",
            "substance use disorder.1                                     4208   99.762921\n"
          ]
        },
        {
          "data": {
            "image/png": "[encoded data removed]",
            "text/plain": [
              "<Figure size 1800x360 with 1 Axes>"
            ]
          },
          "metadata": {
            "needs_background": "light"
          },
          "output_type": "display_data"
        }
      ],
      "source": [
        "noisyData = ShowNullValues(survey)"
      ]
    },
    {
      "cell_type": "markdown",
      "metadata": {
        "id": "IR7B4e5QFAYd"
      },
      "source": [
        "### Let's explore if the respondents have had any history of past diagnosis or if they find it comfortable to discuss their problems with their co-workers or supervisors.  "
      ]
    },
    {
      "cell_type": "code",
      "execution_count": null,
      "metadata": {
        "id": "5yG_gsEOFAYd",
        "outputId": "6b0cef9a-056a-45e8-b292-89ec2f2361c6"
      },
      "outputs": [
        {
          "name": "stdout",
          "output_type": "stream",
          "text": [
            "[' ' 1 0]\n"
          ]
        }
      ],
      "source": [
        "insurance = survey.loc[:, survey.columns.str.contains('insurance', regex=True)]\n",
        "insurance.fillna('', inplace=True)\n",
        "survey['Insurance'] = insurance.apply(lambda row: ' '.join(row.values.astype(str)), axis=1)\n",
        "survey.loc[survey['Insurance'].str.contains('1.0|1|True|true' , regex=True, na=False), 'Insurance'] = 1\n",
        "survey.loc[survey['Insurance'].str.contains('0.0|0|False|false' , regex=True, na=False), 'Insurance'] = 0\n",
        "survey.drop(insurance, axis=1, inplace=True)\n",
        "showInsurance = survey['Insurance']\n",
        "print(showInsurance.unique())"
      ]
    },
    {
      "cell_type": "code",
      "execution_count": null,
      "metadata": {
        "id": "Ygh5qNqNFAYe",
        "outputId": "3168b66f-a1de-4fb1-a96a-c24efb5f727e"
      },
      "outputs": [
        {
          "name": "stdout",
          "output_type": "stream",
          "text": [
            "['           ' 'Yes' 'No' 'Sometimes']\n"
          ]
        }
      ],
      "source": [
        "diagnosis = survey.loc[:, survey.columns.str.contains('diagnosed|Diagnosed|diagnose|Diagnose', regex=True)]\n",
        "diagnosis.fillna(' ', inplace=True)\n",
        "survey['Diagnosis'] = diagnosis.apply(lambda row: ''.join(row.values.astype(str)), axis=1)\n",
        "survey.loc[survey['Diagnosis'].str.contains('yes|Yes|True|true' , regex=True), 'Diagnosis'] = 'Yes'\n",
        "survey.loc[survey['Diagnosis'].str.contains('no|No|False|false' , regex=True), 'Diagnosis'] = 'No'\n",
        "survey.loc[survey['Diagnosis'].str.contains('sometimes|Sometimes' , regex=True), 'Diagnosis'] = 'Sometimes'\n",
        "survey.drop(diagnosis, axis=1, inplace=True)\n",
        "showDiagnosis = survey['Diagnosis']\n",
        "print(showDiagnosis.unique())"
      ]
    },
    {
      "cell_type": "code",
      "execution_count": null,
      "metadata": {
        "id": "wVIlvpcyFAYe",
        "outputId": "d883207f-d174-4cdc-9c38-f29a4d90c31c"
      },
      "outputs": [
        {
          "name": "stdout",
          "output_type": "stream",
          "text": [
            "['Maybe' 'No' 'Yes' '']\n"
          ]
        }
      ],
      "source": [
        "discuss = survey.loc[:, survey.columns.str.contains('discuss|Discuss', regex=True)]\n",
        "discuss.fillna('', inplace=True)\n",
        "survey['Discuss Mental Health Problems'] = discuss.apply(lambda row: ''.join(row.values.astype(str)), axis=1)\n",
        "survey.loc[survey['Discuss Mental Health Problems'].str.contains('some|Some' , regex=True), 'Discuss Mental Health Problems'] = 'Maybe'\n",
        "survey.loc[survey['Discuss Mental Health Problems'].str.contains('yes|Yes' , regex=True), 'Discuss Mental Health Problems'] = 'Yes'\n",
        "survey.loc[survey['Discuss Mental Health Problems'].str.contains('no|No' , regex=True), 'Discuss Mental Health Problems'] = 'No'\n",
        "survey.drop(discuss, axis=1, inplace=True)\n",
        "showDiscussMentalHealthProblems = survey['Discuss Mental Health Problems']\n",
        "print(showDiscussMentalHealthProblems.unique())"
      ]
    },
    {
      "cell_type": "markdown",
      "metadata": {
        "id": "zuJ-GWCfFAYe"
      },
      "source": [
        "### An employer or organisation that positively treats issues regarding mental health goes a long way in making the worlplace friendlier."
      ]
    },
    {
      "cell_type": "code",
      "execution_count": null,
      "metadata": {
        "id": "mQHSlDIxFAYe",
        "outputId": "26dda359-8fe6-4e6b-a3e5-e04f59892309"
      },
      "outputs": [
        {
          "name": "stdout",
          "output_type": "stream",
          "text": [
            "['Yes' 'No' 'Maybe' '          ' 'Self-Employed']\n"
          ]
        }
      ],
      "source": [
        "response = survey.loc[:, survey.columns.str.contains('handled|provided|serious', regex=True)]\n",
        "response.fillna(' ', inplace=True)\n",
        "survey['Responsible Employer'] = response.apply(lambda row: ''.join(row.values.astype(str)), axis=1)\n",
        "survey.loc[survey['Responsible Employer'].str.contains('some|Some' , regex=True), 'Responsible Employer'] = 'Maybe'\n",
        "survey.loc[survey['Responsible Employer'].str.contains('yes|Yes' , regex=True), 'Responsible Employer'] = 'Yes'\n",
        "survey.loc[survey['Responsible Employer'].str.contains('no|No' , regex=True), 'Responsible Employer'] = 'No'\n",
        "survey.loc[survey['Responsible Employer'].str.contains('self-employed' , regex=True), 'Responsible Employer'] = 'Self-Employed'\n",
        "survey.drop(response, axis=1, inplace=True)\n",
        "showResposibleEmployer = survey['Responsible Employer']\n",
        "print(showResposibleEmployer.unique())"
      ]
    },
    {
      "cell_type": "code",
      "execution_count": null,
      "metadata": {
        "id": "phQwDJZlFAYe",
        "outputId": "7cdda71a-408a-463b-f6e7-c932575c07ba"
      },
      "outputs": [
        {
          "name": "stdout",
          "output_type": "stream",
          "text": [
            "                                                    Total missing     Percent\n",
            "mood disorder (depression, bipolar disorder, etc)            4218  100.000000\n",
            "personality disorder (borderline, antisocial, p...           4218  100.000000\n",
            "substance use disorder                                       4218  100.000000\n",
            "stress response syndromes                                    4218  100.000000\n",
            "psychotic disorder (schizophrenia, schizoaffect...           4218  100.000000\n",
            "eating disorder (anorexia, bulimia, etc)                     4218  100.000000\n",
            "psychotic disorder (schizophrenia, schizoaffect...           4218  100.000000\n",
            "dissociative disorder                                        4218  100.000000\n",
            "attention deficit hyperactivity disorder                     4218  100.000000\n",
            "post-traumatic stress disorder                               4218  100.000000\n",
            "obsessive-compulsive disorder                                4218  100.000000\n",
            "anxiety disorder (generalized, social, phobia, ...           4218  100.000000\n",
            "addictive disorder                                           4218  100.000000\n",
            "other                                                        4218  100.000000\n",
            "eating disorder (anorexia, bulimia, etc).1                   4213   99.881460\n",
            "other.1                                                      4213   99.881460\n",
            "dissociative disorder.1                                      4212   99.857752\n",
            "dissociative disorder.2                                      4210   99.810337\n",
            "substance use disorder.1                                     4208   99.762921\n",
            "addictive disorder.1                                         4205   99.691797\n"
          ]
        },
        {
          "data": {
            "image/png": "[encoded data removed]",
            "text/plain": [
              "<Figure size 1800x360 with 1 Axes>"
            ]
          },
          "metadata": {
            "needs_background": "light"
          },
          "output_type": "display_data"
        }
      ],
      "source": [
        "noisyData = ShowNullValues(survey)"
      ]
    },
    {
      "cell_type": "markdown",
      "metadata": {
        "id": "bwADGxiCFAYf"
      },
      "source": [
        "### Let's check if respondents or workers have any history of disorders or if they work in technology sector."
      ]
    },
    {
      "cell_type": "code",
      "execution_count": null,
      "metadata": {
        "id": "IDwOi2X5FAYf",
        "outputId": "ed397451-2d68-4f14-afbf-cccd208c11d7"
      },
      "outputs": [
        {
          "name": "stdout",
          "output_type": "stream",
          "text": [
            "[0 1]\n"
          ]
        }
      ],
      "source": [
        "Disorder = survey.loc[:, survey.columns.str.contains('Disorder|disorder|syndrome|other', regex=True)]\n",
        "Disorder.fillna('', inplace=True)\n",
        "DisorderNotes = Disorder.apply(lambda row: ' '.join(row.values.astype(str)), axis=1)\n",
        "survey['Disorder Notes'] = DisorderNotes\n",
        "survey['Disorder'] = DisorderNotes\n",
        "disorderTerms = 'disorder|Disorder|negative|Negative|syndrome|Syndrome|bipolar|Bipolar|depression|Depression|autism|PTSD|Yes|yes'\n",
        "survey.loc[survey['Disorder'].str.contains(disorderTerms , regex=True), 'Disorder'] = 1\n",
        "survey.loc[survey['Disorder']!=1, 'Disorder'] = 0\n",
        "survey.drop(Disorder, axis=1, inplace=True)\n",
        "showDisorder = survey[['Disorder', 'Disorder Notes']]\n",
        "print(survey['Disorder'].unique())"
      ]
    },
    {
      "cell_type": "code",
      "execution_count": null,
      "metadata": {
        "id": "aw3fn3kGFAYf",
        "outputId": "d0cd0351-7858-41d9-e37d-e2dca02ab308"
      },
      "outputs": [
        {
          "name": "stdout",
          "output_type": "stream",
          "text": [
            "[1 0 '  ']\n"
          ]
        }
      ],
      "source": [
        "techEmployer = survey.loc[:, survey.columns.str.contains('tech company|tech/IT', regex=True)]\n",
        "techEmployer.fillna(' ', inplace=True)\n",
        "survey['Primarily a Tech Employer'] = techEmployer.apply(lambda row: ''.join(row.values.astype(str)), axis=1)\n",
        "survey.loc[survey['Primarily a Tech Employer'].str.contains('yes|Yes|1|1.0|True|true' , regex=True, na=False), 'Primarily a Tech Employer'] = 1\n",
        "survey.loc[survey['Primarily a Tech Employer'].str.contains('no|No|0|0.0|False|false' , regex=True, na=False), 'Primarily a Tech Employer'] = 0\n",
        "survey.drop(techEmployer, axis=1, inplace=True)\n",
        "showTechEmployer = survey['Primarily a Tech Employer']\n",
        "print(showTechEmployer.unique())"
      ]
    },
    {
      "cell_type": "code",
      "execution_count": null,
      "metadata": {
        "id": "Kvxj7fLcFAYf",
        "outputId": "857e97bd-bd14-4d9a-aeb1-e02834c9ad2d"
      },
      "outputs": [
        {
          "name": "stdout",
          "output_type": "stream",
          "text": [
            "                                                    Total missing    Percent\n",
            "how has it affected your career?                             4158  98.577525\n",
            "any additional notes or comments                             4054  96.111901\n",
            "has being identified as a person with a mental ...           4038  95.732575\n",
            "what us state or territory do you *work* in?                 4014  95.163585\n",
            "what us state or territory do you *live* in?                 4014  95.163585\n",
            "if maybe, what condition(s) do you believe you ...           3896  92.366050\n",
            "*are you self-employed?*                                     3866  91.654813\n",
            "*do you have previous employers?*                            3866  91.654813\n",
            "would you bring up your *mental* health with a ...           3866  91.654813\n",
            "if yes, what percentage of your work time (time...           3851  91.299194\n",
            "if there is anything else you would like to tel...           3837  90.967283\n",
            "do you believe your productivity is ever affect...           3714  88.051209\n",
            "does your employer provide mental health benefi...           3575  84.755808\n",
            "if you live in the united states, which state o...           3474  82.361309\n",
            "what us state or territory do you live in?                   3410  80.844002\n",
            "what us state or territory do you live in?                   3378  80.085349\n",
            "what is your race?                                           3230  76.576577\n",
            "if you have a mental health condition, do you f...           3222  76.386913\n",
            "briefly describe what you think the industry as...           3175  75.272641\n",
            "if a mental health issue prompted you to reques...           3072  72.830725\n"
          ]
        },
        {
          "data": {
            "image/png": "[encoded data removed]",
            "text/plain": [
              "<Figure size 1800x360 with 1 Axes>"
            ]
          },
          "metadata": {
            "needs_background": "light"
          },
          "output_type": "display_data"
        }
      ],
      "source": [
        "noisyData = ShowNullValues(survey)"
      ]
    },
    {
      "cell_type": "markdown",
      "metadata": {
        "id": "eSOnMyaFFAYg"
      },
      "source": [
        "### The dataset is cleaned to remove duplicate columns and the mostly empty features."
      ]
    },
    {
      "cell_type": "code",
      "execution_count": null,
      "metadata": {
        "id": "AcGUFZWqFAYg"
      },
      "outputs": [],
      "source": [
        "survey = survey.loc[:, ~survey.columns.duplicated()]\n",
        "survey.replace('', np.nan, inplace=True)\n",
        "\n",
        "\n",
        "emptyColumns = survey.isnull().sum()\n",
        "for column in emptyColumns.index:\n",
        "      if emptyColumns[column]>1000:\n",
        "          survey.drop(column, axis=1, inplace=True)"
      ]
    },
    {
      "cell_type": "markdown",
      "metadata": {
        "id": "Zd6126IxFAYg"
      },
      "source": [
        "### The features in the cleaned dataset are typecasted to their appropriate datatype. It is then exported and saved as a CSV file."
      ]
    },
    {
      "cell_type": "code",
      "execution_count": null,
      "metadata": {
        "id": "UIL2L05TFAYg",
        "outputId": "c0a84b4f-8a8d-401d-bf99-767e0c059e34"
      },
      "outputs": [
        {
          "name": "stdout",
          "output_type": "stream",
          "text": [
            "object/float cast\t Family History of Mental Illness\n",
            "object/float cast\t Company Size\n",
            "int cast\t\t year\n",
            "int cast\t\t Age\n",
            "object/float cast\t Age-Group\n",
            "object/float cast\t Gender\n",
            "int cast\t\t Sought Treatment\n",
            "object/float cast\t Describe Past Experience\n",
            "object/float cast\t Prefer Anonymity\n",
            "object/float cast\t Rate Reaction to Problems\n",
            "object/float cast\t Negative Consequences\n",
            "object/float cast\t Location\n",
            "int cast\t\t Access to information\n",
            "object/float cast\t Insurance\n",
            "object/float cast\t Diagnosis\n",
            "object/float cast\t Discuss Mental Health Problems\n",
            "object/float cast\t Responsible Employer\n",
            "object/float cast\t Disorder Notes\n",
            "int cast\t\t Disorder\n",
            "object/float cast\t Primarily a Tech Employer\n"
          ]
        }
      ],
      "source": [
        "for feature in survey:\n",
        "    try:\n",
        "        survey[feature] = pd.to_numeric(survey[feature], errors='coerce').astype(int)\n",
        "        print('int cast\\t\\t', feature)\n",
        "    except:\n",
        "       try:\n",
        "           survey[feature] = survey[feature].astype(str)\n",
        "           survey.loc[survey[feature].str.contains('^\\s+$|nan' , regex=True), feature] = np.nan\n",
        "           print('object/float cast\\t', feature)\n",
        "       except:\n",
        "           continue\n",
        "\n",
        "survey.to_csv('cleanedDatasets/OSMIcleaned.csv', index=False)"
      ]
    },
    {
      "cell_type": "code",
      "execution_count": null,
      "metadata": {
        "id": "V02nN344FAYg",
        "outputId": "271ea566-7bd7-443e-cf11-059e1abd393c"
      },
      "outputs": [
        {
          "name": "stdout",
          "output_type": "stream",
          "text": [
            "                                  Total missing    Percent\n",
            "Insurance                                  3714  88.051209\n",
            "Describe Past Experience                   3273  77.596017\n",
            "Rate Reaction to Problems                  2695  63.892840\n",
            "Prefer Anonymity                           2695  63.892840\n",
            "Diagnosis                                  1995  47.297297\n",
            "Disorder Notes                             1260  29.871977\n",
            "Company Size                                504  11.948791\n",
            "Primarily a Tech Employer                   307   7.278331\n",
            "Responsible Employer                         38   0.900901\n",
            "Discuss Mental Health Problems               29   0.687530\n",
            "Location                                      2   0.047416\n",
            "Negative Consequences                         2   0.047416\n",
            "Disorder                                      0   0.000000\n",
            "Access to information                         0   0.000000\n",
            "Sought Treatment                              0   0.000000\n",
            "Gender                                        0   0.000000\n",
            "Age-Group                                     0   0.000000\n",
            "Age                                           0   0.000000\n",
            "year                                          0   0.000000\n",
            "Family History of Mental Illness              0   0.000000\n"
          ]
        },
        {
          "data": {
            "image/png": "[encoded data removed]",
            "text/plain": [
              "<Figure size 1800x360 with 1 Axes>"
            ]
          },
          "metadata": {
            "needs_background": "light"
          },
          "output_type": "display_data"
        }
      ],
      "source": [
        "noisyData = ShowNullValues(survey)"
      ]
    },
    {
      "cell_type": "code",
      "execution_count": null,
      "metadata": {
        "id": "3AW1Bl15FAYg",
        "outputId": "24cda4aa-f735-477f-f702-65e53ccd3cc0"
      },
      "outputs": [
        {
          "name": "stdout",
          "output_type": "stream",
          "text": [
            "(4218, 20)\n"
          ]
        }
      ],
      "source": [
        "print(survey.shape)"
      ]
    },
    {
      "cell_type": "markdown",
      "metadata": {
        "id": "FM6NMjRcFAYh"
      },
      "source": [
        "## The cleaned dataset, *OSMIcleaned.csv*, is in **cleanedDatasets** directory."
      ]
    }
  ],
  "metadata": {
    "kernelspec": {
      "display_name": "Python 3",
      "language": "python",
      "name": "python3"
    },
    "language_info": {
      "codemirror_mode": {
        "name": "ipython",
        "version": 3
      },
      "file_extension": ".py",
      "mimetype": "text/x-python",
      "name": "python",
      "nbconvert_exporter": "python",
      "pygments_lexer": "ipython3",
      "version": "3.7.5"
    },
    "colab": {
      "provenance": [],
      "include_colab_link": true
    }
  },
  "nbformat": 4,
  "nbformat_minor": 0
}